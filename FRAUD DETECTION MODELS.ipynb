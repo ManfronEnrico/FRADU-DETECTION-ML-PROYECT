<?xml version="1.0" encoding="UTF-8"?>
<!DOCTYPE plist PUBLIC "-//Apple//DTD PLIST 1.0//EN" "http://www.apple.com/DTDs/PropertyList-1.0.dtd">
<plist version="1.0">
<dict>
	<key>URL</key>
	<string>https://cdn.discordapp.com/attachments/1350478004081528975/1372731236291969136/ML_-_Final_Exam_-_Combined_Code_-_FOR_ENRICO_TO_TUNE_1.ipynb?ex=68345d56&amp;is=68330bd6&amp;hm=513f89153017bde80526b6116bc7b5c3d1235fbffc3ff5467a892b915fdeeb73&amp;</string>
</dict>
</plist>
